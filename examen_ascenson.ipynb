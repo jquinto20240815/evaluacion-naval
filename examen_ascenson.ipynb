from IPython.display import display, Markdown
import ipywidgets as widgets
import json

# Cargar preguntas desde JSON
with open('preguntas_ascenso.json', 'r', encoding='utf-8') as f:
    preguntas = json.load(f)

puntaje = 0
respuestas_usuario = []

def evaluar(b):
    global puntaje
    puntaje = 0
    respuestas_usuario.clear()
    output.clear_output()
    with output:
        for i, item in enumerate(controles):
            seleccion = item.value
            respuestas_usuario.append(seleccion)
            if seleccion == preguntas[i]['respuesta']:
                puntaje += 1
        display(Markdown(f"### Puntaje final: {puntaje} de {len(preguntas)} preguntas correctas."))

# Crear widgets
controles = []
preguntas_widgets = []
for i, pregunta in enumerate(preguntas):
    opciones = pregunta['opciones']
    opciones_widget = widgets.RadioButtons(
        options=opciones,
        description=f"{i+1}. {pregunta['pregunta']}",
        style={'description_width': 'initial'},
        layout=widgets.Layout(width='auto')
    )
    controles.append(opciones_widget)
    preguntas_widgets.append(widgets.VBox([opciones_widget]))

# Botón de calificación
boton = widgets.Button(description="Calificar")
boton.on_click(evaluar)

# Salida
output = widgets.Output()

# Mostrar todo
display(widgets.VBox(preguntas_widgets + [boton, output]))
